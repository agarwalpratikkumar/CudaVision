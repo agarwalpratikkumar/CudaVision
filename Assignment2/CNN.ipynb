{
  "nbformat": 4,
  "nbformat_minor": 0,
  "metadata": {
    "colab": {
      "name": "CNN.ipynb",
      "version": "0.3.2",
      "provenance": []
    },
    "kernelspec": {
      "name": "python3",
      "display_name": "Python 3"
    },
    "accelerator": "GPU"
  },
  "cells": [
    {
      "metadata": {
        "id": "UZCwhXd0BwVH",
        "colab_type": "code",
        "outputId": "d4aa4850-d019-4869-911d-4419201b0933",
        "colab": {
          "base_uri": "https://localhost:8080/",
          "height": 54
        }
      },
      "cell_type": "code",
      "source": [
        "# http://pytorch.org/\n",
        "from os.path import exists\n",
        "from wheel.pep425tags import get_abbr_impl, get_impl_ver, get_abi_tag\n",
        "platform = '{}{}-{}'.format(get_abbr_impl(), get_impl_ver(), get_abi_tag())\n",
        "cuda_output = !ldconfig -p|grep cudart.so|sed -e 's/.*\\.\\([0-9]*\\)\\.\\([0-9]*\\)$/cu\\1\\2/'\n",
        "accelerator = cuda_output[0] if exists('/dev/nvidia0') else 'cpu'\n",
        "\n",
        "!pip install -q http://download.pytorch.org/whl/{accelerator}/torch-0.4.1-{platform}-linux_x86_64.whl torchvision\n",
        "import torch"
      ],
      "execution_count": 1,
      "outputs": [
        {
          "output_type": "stream",
          "text": [
            "tcmalloc: large alloc 1073750016 bytes == 0x59212000 @  0x7f8a096f32a4 0x591a07 0x5b5d56 0x502e9a 0x506859 0x502209 0x502f3d 0x506859 0x504c28 0x502540 0x502f3d 0x506859 0x504c28 0x502540 0x502f3d 0x506859 0x504c28 0x502540 0x502f3d 0x507641 0x502209 0x502f3d 0x506859 0x504c28 0x502540 0x502f3d 0x507641 0x504c28 0x502540 0x502f3d 0x507641\n"
          ],
          "name": "stdout"
        }
      ]
    },
    {
      "metadata": {
        "id": "WIQXENumBr_n",
        "colab_type": "code",
        "colab": {}
      },
      "cell_type": "code",
      "source": [
        "import torch"
      ],
      "execution_count": 0,
      "outputs": []
    },
    {
      "metadata": {
        "id": "ZVRFAI2oBtf1",
        "colab_type": "code",
        "colab": {}
      },
      "cell_type": "code",
      "source": [
        "import torch.nn as nn\n",
        "import torch.nn.functional as F\n",
        "import torch.optim as optim\n",
        "from torchvision import datasets, transforms\n",
        "from torch.autograd import Variable\n",
        "import numpy as np\n",
        "import matplotlib.pyplot as plt"
      ],
      "execution_count": 0,
      "outputs": []
    },
    {
      "metadata": {
        "id": "HPcQgc4xCw58",
        "colab_type": "code",
        "colab": {
          "base_uri": "https://localhost:8080/",
          "height": 34
        },
        "outputId": "082f72fd-926f-4cbb-f114-3274149bbd74"
      },
      "cell_type": "code",
      "source": [
        "use_gpu = torch.cuda.is_available()\n",
        "print(use_gpu)"
      ],
      "execution_count": 7,
      "outputs": [
        {
          "output_type": "stream",
          "text": [
            "True\n"
          ],
          "name": "stdout"
        }
      ]
    },
    {
      "metadata": {
        "id": "E6pcitHRDM4a",
        "colab_type": "code",
        "colab": {}
      },
      "cell_type": "code",
      "source": [
        "torch.manual_seed(42)\n",
        "if(use_gpu):\n",
        "  torch.cuda.manual_seed(42)"
      ],
      "execution_count": 0,
      "outputs": []
    },
    {
      "metadata": {
        "id": "UstkT4cTDobA",
        "colab_type": "code",
        "outputId": "6d96678a-b1aa-4b78-a648-aa6cb5396edf",
        "colab": {
          "base_uri": "https://localhost:8080/",
          "height": 50
        }
      },
      "cell_type": "code",
      "source": [
        "train_dataset = datasets.CIFAR10('data', train=True, transform=transforms.ToTensor(), download=True)\n",
        "test_dataset = datasets.CIFAR10('data', train=False, transform=transforms.ToTensor(), download=True)"
      ],
      "execution_count": 9,
      "outputs": [
        {
          "output_type": "stream",
          "text": [
            "Downloading https://www.cs.toronto.edu/~kriz/cifar-10-python.tar.gz to data/cifar-10-python.tar.gz\n",
            "Files already downloaded and verified\n"
          ],
          "name": "stdout"
        }
      ]
    },
    {
      "metadata": {
        "id": "VddT4Gp2EmUq",
        "colab_type": "code",
        "colab": {}
      },
      "cell_type": "code",
      "source": [
        "batch_size = 100\n",
        "train_loader = torch.utils.data.DataLoader(dataset=train_dataset, batch_size=batch_size, shuffle=True, num_workers=2)\n",
        "test_loader = torch.utils.data.DataLoader(dataset=test_dataset, batch_size=batch_size, shuffle=True, num_workers=2)"
      ],
      "execution_count": 0,
      "outputs": []
    },
    {
      "metadata": {
        "id": "4_3GSyKDEy-m",
        "colab_type": "code",
        "colab": {}
      },
      "cell_type": "code",
      "source": [
        "CLASSES = ('plane', 'car', 'bird', 'cat', 'deer', 'dog', 'frog', 'horse', 'ship', 'truck')"
      ],
      "execution_count": 0,
      "outputs": []
    },
    {
      "metadata": {
        "id": "m_OVhX8tWcjw",
        "colab_type": "code",
        "outputId": "f33f63d1-ceba-48d6-fc62-387d558a70dd",
        "colab": {
          "base_uri": "https://localhost:8080/",
          "height": 34
        }
      },
      "cell_type": "code",
      "source": [
        "for data, target in train_loader:\n",
        "  print(data.size(), target.size(), len(train_loader))\n",
        "  break"
      ],
      "execution_count": 12,
      "outputs": [
        {
          "output_type": "stream",
          "text": [
            "torch.Size([100, 3, 32, 32]) torch.Size([100]) 500\n"
          ],
          "name": "stdout"
        }
      ]
    },
    {
      "metadata": {
        "id": "2ETjT5z6E84H",
        "colab_type": "code",
        "colab": {}
      },
      "cell_type": "code",
      "source": [
        "class Net(nn.Module):\n",
        "  def __init__(self, pool_type = 'max'):\n",
        "    super(Net, self).__init__()\n",
        "    # Convolution 1\n",
        "    self.cnn1 = nn.Conv2d(in_channels=3, out_channels=20, kernel_size=5, stride=1, padding=0)\n",
        "    self.relu1 = nn.ReLU()\n",
        "         \n",
        "    # pool 1\n",
        "    if pool_type == 'max':\n",
        "      self.pool1 = nn.MaxPool2d(kernel_size=2)\n",
        "    else:\n",
        "      self.pool1 = nn.AvgPool2d(kernel_size=2)\n",
        "      \n",
        "    # Convolution 2\n",
        "    self.cnn2 = nn.Conv2d(in_channels=20, out_channels=32, kernel_size=5, stride=1, padding=0)\n",
        "    self.relu2 = nn.ReLU()\n",
        "         \n",
        "    # pool 2\n",
        "    if pool_type == 'max':\n",
        "      self.pool2 = nn.MaxPool2d(kernel_size=2)\n",
        "    else:\n",
        "      self.pool2 = nn.AvgPool2d(kernel_size=2)\n",
        "         \n",
        "    # Fully connected 1 (readout)\n",
        "    self.fc1 = nn.Linear(32 * 5 * 5, 10)\n",
        "    \n",
        "   \n",
        "  \n",
        "  def forward(self, x):\n",
        "    x = self.cnn1(x)\n",
        "    x = self.relu1(x)\n",
        "    x = self.pool1(x)\n",
        "    x = self.cnn2(x)   \n",
        "    x = self.relu2(x)\n",
        "    x = self.pool2(x)\n",
        "    x = x.view(x.size(0), -1)\n",
        "    x = self.fc1(x)\n",
        "    return x"
      ],
      "execution_count": 0,
      "outputs": []
    },
    {
      "metadata": {
        "id": "tFhm7fsKWFqK",
        "colab_type": "code",
        "colab": {}
      },
      "cell_type": "code",
      "source": [
        "pool = 'max'\n",
        "model = Net(pool)\n",
        "if use_gpu:\n",
        "  model.cuda()"
      ],
      "execution_count": 0,
      "outputs": []
    },
    {
      "metadata": {
        "id": "9o66vg0sKv_J",
        "colab_type": "code",
        "colab": {}
      },
      "cell_type": "code",
      "source": [
        "criterion = nn.CrossEntropyLoss()\n",
        "optimizer = torch.optim.SGD(model.parameters(), lr=0.01)"
      ],
      "execution_count": 0,
      "outputs": []
    },
    {
      "metadata": {
        "id": "vyaBoOMHJus4",
        "colab_type": "code",
        "colab": {}
      },
      "cell_type": "code",
      "source": [
        "class ConvModel():\n",
        "  def __init__(self, model):\n",
        "    super(ConvModel,self).__init__()\n",
        "    self.model = model\n",
        "    \n",
        "  def train(self, epoch, log_interval = 100):\n",
        "    model.train()\n",
        "    \n",
        "    for batch_idx, (image,target) in enumerate(train_loader):\n",
        "      if use_gpu:\n",
        "        image, target = image.cuda(), target.cuda()\n",
        "      image, target = Variable(image), Variable(target)\n",
        "      \n",
        "      optimizer.zero_grad()\n",
        "      output = model.forward(image)\n",
        "      loss = criterion(output, target)\n",
        "      loss.backward()\n",
        "      optimizer.step()\n",
        "      \n",
        "      if batch_idx % log_interval == 0:\n",
        "        print('Train Epoch:{}, Train Loss: {:.6f}'.format(epoch, loss.data[0]))\n",
        "    \n",
        "  \n",
        "  def test(self):\n",
        "    model.eval()\n",
        "    test_loss, correct = 0, 0\n",
        "    loss_per_epoch = []\n",
        "    Accuracy_per_epoch = []\n",
        "  \n",
        "    for image, target in test_loader:\n",
        "      if use_gpu:\n",
        "        image, target = image.cuda(), target.cuda()\n",
        "        image, target = Variable(image), Variable(target)\n",
        "    \n",
        "      output = model(image)\n",
        "      loss = criterion(output, target)\n",
        "      prediction = output.data.max(1)[1]\n",
        "      test_loss += criterion(output, target).data[0]\n",
        "      correct += prediction.eq(target.data).sum()\n",
        "    \n",
        "    Average_loss = test_loss/len(test_loader)\n",
        "    loss_per_epoch.append(Average_loss)\n",
        "    Accuracy = 100. * correct/len(test_loader.dataset)\n",
        "    Accuracy_per_epoch.append(Accuracy)\n",
        "    \n",
        "    \n",
        "    print('Average Loss: {} , Accuracy: {} %:'.format(Average_loss, Accuracy))\n",
        "    return loss_per_epoch, Accuracy_per_epoch"
      ],
      "execution_count": 0,
      "outputs": []
    },
    {
      "metadata": {
        "id": "J06i8IT4UH4E",
        "colab_type": "code",
        "outputId": "0efd33c0-27a6-4525-9b6c-50fc09544465",
        "colab": {
          "base_uri": "https://localhost:8080/",
          "height": 1078
        }
      },
      "cell_type": "code",
      "source": [
        "lossv = []\n",
        "accv = []\n",
        "conv_model = ConvModel(model)\n",
        "\n",
        "epochs = 10\n",
        "for epoch in range(1, epochs+1):\n",
        "  conv_model.train(epoch)\n",
        "  l, a = conv_model.test()\n",
        "  lossv.append(l)\n",
        "  accv.append(a)\n"
      ],
      "execution_count": 17,
      "outputs": [
        {
          "output_type": "stream",
          "text": [
            "/usr/local/lib/python3.6/dist-packages/ipykernel_launcher.py:21: UserWarning: invalid index of a 0-dim tensor. This will be an error in PyTorch 0.5. Use tensor.item() to convert a 0-dim tensor to a Python number\n"
          ],
          "name": "stderr"
        },
        {
          "output_type": "stream",
          "text": [
            "Train Epoch:1, Train Loss: 2.321357\n",
            "Train Epoch:1, Train Loss: 2.298144\n",
            "Train Epoch:1, Train Loss: 2.285827\n",
            "Train Epoch:1, Train Loss: 2.241773\n",
            "Train Epoch:1, Train Loss: 2.150079\n"
          ],
          "name": "stdout"
        },
        {
          "output_type": "stream",
          "text": [
            "/usr/local/lib/python3.6/dist-packages/ipykernel_launcher.py:38: UserWarning: invalid index of a 0-dim tensor. This will be an error in PyTorch 0.5. Use tensor.item() to convert a 0-dim tensor to a Python number\n"
          ],
          "name": "stderr"
        },
        {
          "output_type": "stream",
          "text": [
            "Average Loss: 2.0611934661865234 , Accuracy: 26 %:\n",
            "Train Epoch:2, Train Loss: 2.086584\n",
            "Train Epoch:2, Train Loss: 2.015258\n",
            "Train Epoch:2, Train Loss: 1.950945\n",
            "Train Epoch:2, Train Loss: 1.905607\n",
            "Train Epoch:2, Train Loss: 1.855226\n",
            "Average Loss: 1.8458800315856934 , Accuracy: 34 %:\n",
            "Train Epoch:3, Train Loss: 1.808609\n",
            "Train Epoch:3, Train Loss: 1.866821\n",
            "Train Epoch:3, Train Loss: 1.701454\n",
            "Train Epoch:3, Train Loss: 1.869560\n",
            "Train Epoch:3, Train Loss: 1.681844\n",
            "Average Loss: 1.6958338022232056 , Accuracy: 40 %:\n",
            "Train Epoch:4, Train Loss: 1.586863\n",
            "Train Epoch:4, Train Loss: 1.663669\n",
            "Train Epoch:4, Train Loss: 1.714777\n",
            "Train Epoch:4, Train Loss: 1.746725\n",
            "Train Epoch:4, Train Loss: 1.524014\n",
            "Average Loss: 1.5831317901611328 , Accuracy: 43 %:\n",
            "Train Epoch:5, Train Loss: 1.548395\n",
            "Train Epoch:5, Train Loss: 1.594339\n",
            "Train Epoch:5, Train Loss: 1.388761\n",
            "Train Epoch:5, Train Loss: 1.671120\n",
            "Train Epoch:5, Train Loss: 1.548410\n",
            "Average Loss: 1.524013638496399 , Accuracy: 45 %:\n",
            "Train Epoch:6, Train Loss: 1.533943\n",
            "Train Epoch:6, Train Loss: 1.623479\n",
            "Train Epoch:6, Train Loss: 1.507724\n",
            "Train Epoch:6, Train Loss: 1.369768\n",
            "Train Epoch:6, Train Loss: 1.458983\n",
            "Average Loss: 1.4857889413833618 , Accuracy: 47 %:\n",
            "Train Epoch:7, Train Loss: 1.547859\n",
            "Train Epoch:7, Train Loss: 1.526161\n",
            "Train Epoch:7, Train Loss: 1.519908\n",
            "Train Epoch:7, Train Loss: 1.461544\n",
            "Train Epoch:7, Train Loss: 1.451250\n",
            "Average Loss: 1.4537725448608398 , Accuracy: 48 %:\n",
            "Train Epoch:8, Train Loss: 1.529955\n",
            "Train Epoch:8, Train Loss: 1.604738\n",
            "Train Epoch:8, Train Loss: 1.417059\n",
            "Train Epoch:8, Train Loss: 1.502241\n",
            "Train Epoch:8, Train Loss: 1.269474\n",
            "Average Loss: 1.4254004955291748 , Accuracy: 49 %:\n",
            "Train Epoch:9, Train Loss: 1.332571\n",
            "Train Epoch:9, Train Loss: 1.300393\n",
            "Train Epoch:9, Train Loss: 1.434491\n",
            "Train Epoch:9, Train Loss: 1.367115\n",
            "Train Epoch:9, Train Loss: 1.564170\n",
            "Average Loss: 1.4237546920776367 , Accuracy: 49 %:\n",
            "Train Epoch:10, Train Loss: 1.328886\n",
            "Train Epoch:10, Train Loss: 1.315149\n",
            "Train Epoch:10, Train Loss: 1.356562\n",
            "Train Epoch:10, Train Loss: 1.556332\n",
            "Train Epoch:10, Train Loss: 1.481971\n",
            "Average Loss: 1.387647032737732 , Accuracy: 50 %:\n"
          ],
          "name": "stdout"
        }
      ]
    },
    {
      "metadata": {
        "id": "mkXYKeIDci5j",
        "colab_type": "code",
        "outputId": "7718f3e1-75ef-4745-abe3-b671d5c27043",
        "colab": {
          "base_uri": "https://localhost:8080/",
          "height": 420
        }
      },
      "cell_type": "code",
      "source": [
        "for x in model.children():\n",
        "  print(x)\n",
        "print('********')\n",
        "for y in model.modules():\n",
        "  print(y)"
      ],
      "execution_count": 18,
      "outputs": [
        {
          "output_type": "stream",
          "text": [
            "Conv2d(3, 20, kernel_size=(5, 5), stride=(1, 1))\n",
            "ReLU()\n",
            "MaxPool2d(kernel_size=2, stride=2, padding=0, dilation=1, ceil_mode=False)\n",
            "Conv2d(20, 32, kernel_size=(5, 5), stride=(1, 1))\n",
            "ReLU()\n",
            "MaxPool2d(kernel_size=2, stride=2, padding=0, dilation=1, ceil_mode=False)\n",
            "Linear(in_features=800, out_features=10, bias=True)\n",
            "********\n",
            "Net(\n",
            "  (cnn1): Conv2d(3, 20, kernel_size=(5, 5), stride=(1, 1))\n",
            "  (relu1): ReLU()\n",
            "  (pool1): MaxPool2d(kernel_size=2, stride=2, padding=0, dilation=1, ceil_mode=False)\n",
            "  (cnn2): Conv2d(20, 32, kernel_size=(5, 5), stride=(1, 1))\n",
            "  (relu2): ReLU()\n",
            "  (pool2): MaxPool2d(kernel_size=2, stride=2, padding=0, dilation=1, ceil_mode=False)\n",
            "  (fc1): Linear(in_features=800, out_features=10, bias=True)\n",
            ")\n",
            "Conv2d(3, 20, kernel_size=(5, 5), stride=(1, 1))\n",
            "ReLU()\n",
            "MaxPool2d(kernel_size=2, stride=2, padding=0, dilation=1, ceil_mode=False)\n",
            "Conv2d(20, 32, kernel_size=(5, 5), stride=(1, 1))\n",
            "ReLU()\n",
            "MaxPool2d(kernel_size=2, stride=2, padding=0, dilation=1, ceil_mode=False)\n",
            "Linear(in_features=800, out_features=10, bias=True)\n"
          ],
          "name": "stdout"
        }
      ]
    },
    {
      "metadata": {
        "id": "_XshtHmIXNko",
        "colab_type": "code",
        "outputId": "b8fa71f2-e944-45ba-d5d6-a9f90c9f133b",
        "colab": {
          "base_uri": "https://localhost:8080/",
          "height": 439
        }
      },
      "cell_type": "code",
      "source": [
        "def plot_kernels(tensor, num_cols=6):\n",
        "    num_kernels = tensor.shape[0]\n",
        "    num_rows = 1+ num_kernels // num_cols\n",
        "    fig = plt.figure(figsize=(num_cols,num_rows))\n",
        "    for i in range(num_kernels):\n",
        "        ax1 = fig.add_subplot(num_rows,num_cols,i+1)\n",
        "        ax1.imshow(tensor[i][0,:,:], cmap='gray')\n",
        "        ax1.axis('off')\n",
        "        ax1.set_xticklabels([])\n",
        "        ax1.set_yticklabels([])\n",
        "plt.subplots_adjust(wspace=0.1, hspace=0.1)\n",
        "plt.show()\n",
        "\n",
        "\n",
        "filters = model.modules()\n",
        "model_layers = [i for i in model.children()]\n",
        "first_layer = model_layers[0]\n",
        "second_layer = model_layers[3]\n",
        "\n",
        "first_kernels = first_layer.weight.data.cpu().numpy()\n",
        "plot_kernels(first_kernels, 8)\n",
        "\n",
        "second_kernels = second_layer.weight.data.cpu().numpy()\n",
        "plot_kernels(second_kernels, 8)\n"
      ],
      "execution_count": 20,
      "outputs": [
        {
          "output_type": "display_data",
          "data": {
            "text/plain": [
              "<matplotlib.figure.Figure at 0x7fcea6db9c88>"
            ]
          },
          "metadata": {
            "tags": []
          }
        },
        {
          "output_type": "display_data",
          "data": {
            "image/png": "[encoded data removed]",
            "text/plain": [
              "<matplotlib.figure.Figure at 0x7fcea6db9cf8>"
            ]
          },
          "metadata": {
            "tags": []
          }
        },
        {
          "output_type": "display_data",
          "data": {
            "image/png": "[encoded data removed]",
            "text/plain": [
              "<matplotlib.figure.Figure at 0x7fcea333eef0>"
            ]
          },
          "metadata": {
            "tags": []
          }
        }
      ]
    },
    {
      "metadata": {
        "id": "hi0Wk4PxZSXI",
        "colab_type": "code",
        "colab": {}
      },
      "cell_type": "code",
      "source": [
        ""
      ],
      "execution_count": 0,
      "outputs": []
    }
  ]
}