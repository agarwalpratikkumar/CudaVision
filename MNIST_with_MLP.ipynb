{
  "nbformat": 4,
  "nbformat_minor": 0,
  "metadata": {
    "colab": {
      "name": "MNIST with MLP.ipynb",
      "version": "0.3.2",
      "provenance": []
    },
    "kernelspec": {
      "name": "python3",
      "display_name": "Python 3"
    },
    "accelerator": "GPU"
  },
  "cells": [
    {
      "cell_type": "code",
      "metadata": {
        "id": "zHXE4xS15EIQ",
        "colab_type": "code",
        "outputId": "14c911f7-508a-482e-f758-af644b857ee2",
        "colab": {
          "base_uri": "https://localhost:8080/",
          "height": 54
        }
      },
      "source": [
        "# http://pytorch.org/\n",
        "from os.path import exists\n",
        "from wheel.pep425tags import get_abbr_impl, get_impl_ver, get_abi_tag\n",
        "platform = '{}{}-{}'.format(get_abbr_impl(), get_impl_ver(), get_abi_tag())\n",
        "cuda_output = !ldconfig -p|grep cudart.so|sed -e 's/.*\\.\\([0-9]*\\)\\.\\([0-9]*\\)$/cu\\1\\2/'\n",
        "accelerator = cuda_output[0] if exists('/dev/nvidia0') else 'cpu'\n",
        "\n",
        "!pip install -q http://download.pytorch.org/whl/{accelerator}/torch-0.4.1-{platform}-linux_x86_64.whl torchvision\n",
        "import torch"
      ],
      "execution_count": 0,
      "outputs": [
        {
          "output_type": "stream",
          "text": [
            "tcmalloc: large alloc 1073750016 bytes == 0x57dc6000 @  0x7f28d220f2a4 0x594e17 0x626104 0x51190a 0x4f5277 0x510c78 0x5119bd 0x4f5277 0x4f3338 0x510fb0 0x5119bd 0x4f5277 0x4f3338 0x510fb0 0x5119bd 0x4f5277 0x4f3338 0x510fb0 0x5119bd 0x4f6070 0x510c78 0x5119bd 0x4f5277 0x4f3338 0x510fb0 0x5119bd 0x4f6070 0x4f3338 0x510fb0 0x5119bd 0x4f6070\n"
          ],
          "name": "stdout"
        }
      ]
    },
    {
      "cell_type": "code",
      "metadata": {
        "id": "Wdv60g9-UfAF",
        "colab_type": "code",
        "colab": {}
      },
      "source": [
        "import torch\n",
        "import torch.nn as nn\n",
        "import torch.nn.functional as F\n",
        "import torch.optim as optim\n",
        "from torchvision import datasets, transforms\n",
        "from torch.autograd import Variable\n",
        "\n",
        "import numpy as np\n",
        "import matplotlib.pyplot as plt"
      ],
      "execution_count": 0,
      "outputs": []
    },
    {
      "cell_type": "code",
      "metadata": {
        "id": "stDe_Rtb53Y7",
        "colab_type": "code",
        "colab": {}
      },
      "source": [
        "import seaborn as sns"
      ],
      "execution_count": 0,
      "outputs": []
    },
    {
      "cell_type": "code",
      "metadata": {
        "id": "hFuF7w8ZU-7Y",
        "colab_type": "code",
        "colab": {}
      },
      "source": [
        "cuda = torch.cuda.is_available()"
      ],
      "execution_count": 0,
      "outputs": []
    },
    {
      "cell_type": "code",
      "metadata": {
        "id": "48igDQ_s6CJY",
        "colab_type": "code",
        "outputId": "c768c40d-9896-41f7-cc08-608c1af0910c",
        "colab": {
          "base_uri": "https://localhost:8080/",
          "height": 34
        }
      },
      "source": [
        "print('Using PyTorch version:', torch.__version__, 'CUDA:', cuda)"
      ],
      "execution_count": 0,
      "outputs": [
        {
          "output_type": "stream",
          "text": [
            "Using PyTorch version: 0.4.1 CUDA: True\n"
          ],
          "name": "stdout"
        }
      ]
    },
    {
      "cell_type": "code",
      "metadata": {
        "id": "tfdgx3zo6PYF",
        "colab_type": "code",
        "colab": {}
      },
      "source": [
        "torch.manual_seed(42)\n",
        "if(cuda):\n",
        "  torch.cuda.manual_seed(42)"
      ],
      "execution_count": 0,
      "outputs": []
    },
    {
      "cell_type": "code",
      "metadata": {
        "id": "DGAQ6niI6bb9",
        "colab_type": "code",
        "outputId": "147468c9-a904-45e6-afe4-ac01d7fde559",
        "colab": {
          "base_uri": "https://localhost:8080/",
          "height": 228
        }
      },
      "source": [
        "batch_size = 32\n",
        "kwargs = {'num_workers': 1, 'pin_memory': True} if cuda else {}\n",
        "\n",
        "train_loader = torch.utils.data.DataLoader(datasets.MNIST('data_', train=True, download=True, transform=transforms.\n",
        "                                           Compose([transforms.ToTensor(),transforms.Normalize((0.1307,),(0.3081,))])),\n",
        "                           batch_size=batch_size, shuffle=True, **kwargs )\n",
        "\n",
        "test_loader = torch.utils.data.DataLoader(datasets.MNIST('data_', train=False, download=True, transform=transforms.\n",
        "                                                         Compose([transforms.ToTensor(),transforms.Normalize((0.1307,), (0.3081,))])),\n",
        "                                          batch_size=batch_size, shuffle=True, **kwargs)\n"
      ],
      "execution_count": 0,
      "outputs": [
        {
          "output_type": "stream",
          "text": [
            "Downloading http://yann.lecun.com/exdb/mnist/train-images-idx3-ubyte.gz\n",
            "Downloading http://yann.lecun.com/exdb/mnist/train-labels-idx1-ubyte.gz\n",
            "Downloading http://yann.lecun.com/exdb/mnist/t10k-images-idx3-ubyte.gz\n",
            "Downloading http://yann.lecun.com/exdb/mnist/t10k-labels-idx1-ubyte.gz\n",
            "Processing...\n",
            "Done!\n",
            "Downloading http://yann.lecun.com/exdb/mnist/train-images-idx3-ubyte.gz\n",
            "Downloading http://yann.lecun.com/exdb/mnist/train-labels-idx1-ubyte.gz\n",
            "Downloading http://yann.lecun.com/exdb/mnist/t10k-images-idx3-ubyte.gz\n",
            "Downloading http://yann.lecun.com/exdb/mnist/t10k-labels-idx1-ubyte.gz\n",
            "Processing...\n",
            "Done!\n"
          ],
          "name": "stdout"
        }
      ]
    },
    {
      "cell_type": "markdown",
      "metadata": {
        "id": "Jidu5mimdvK3",
        "colab_type": "text"
      },
      "source": [
        "**DataLoader provides single- or multi-process iterators over the dataset.**"
      ]
    },
    {
      "cell_type": "code",
      "metadata": {
        "id": "KsrKyfk78zN1",
        "colab_type": "code",
        "outputId": "76068ba0-c04c-4769-920c-3e997843ba90",
        "colab": {
          "base_uri": "https://localhost:8080/",
          "height": 34
        }
      },
      "source": [
        "train_loader, len(train_loader.dataset)"
      ],
      "execution_count": 0,
      "outputs": [
        {
          "output_type": "execute_result",
          "data": {
            "text/plain": [
              "(<torch.utils.data.dataloader.DataLoader at 0x7fbd276f9be0>, 60000)"
            ]
          },
          "metadata": {
            "tags": []
          },
          "execution_count": 11
        }
      ]
    },
    {
      "cell_type": "code",
      "metadata": {
        "id": "coKh-zHB84Cy",
        "colab_type": "code",
        "outputId": "b08eb0d7-a579-44cb-f93b-b8062b836b5a",
        "colab": {
          "base_uri": "https://localhost:8080/",
          "height": 34
        }
      },
      "source": [
        "count = 0\n",
        "for (x_train, y_train) in train_loader:\n",
        "  count += 1\n",
        "print(count, x_train.size(), y_train.size())"
      ],
      "execution_count": 0,
      "outputs": [
        {
          "output_type": "stream",
          "text": [
            "1875 torch.Size([32, 1, 28, 28]) torch.Size([32])\n"
          ],
          "name": "stdout"
        }
      ]
    },
    {
      "cell_type": "markdown",
      "metadata": {
        "id": "CzHRlkJR0Skx",
        "colab_type": "text"
      },
      "source": [
        "Above we are checking the size of our data. 1875 tells us there are these many batches of training dataset is present. Then [32,1,28,28] it tells us that the batch size is 32 and each image is of dimention 1,28,28. 1 indicates that it is a greyscale image. If 3 is written instead of 1 then it shows that we have an RGB image, 3 means three different channels. And our training label size is 32 as we have 32 images in a batch. "
      ]
    },
    {
      "cell_type": "code",
      "metadata": {
        "id": "4dhr-YGd-sva",
        "colab_type": "code",
        "colab": {}
      },
      "source": [
        "class Net(nn.Module):\n",
        "  def __init__(self):\n",
        "    super(Net, self).__init__()\n",
        "    self.fc1 = nn.Linear(28*28, 50)\n",
        "    self.fc1_drop = nn.Dropout(0.2)\n",
        "    self.fc2 = nn.Linear(50, 50)\n",
        "    self.fc2_drop = nn.Dropout(0.2)\n",
        "    self.fc3 = nn.Linear(50, 10)\n",
        "   \n",
        "  def forward(self, x):\n",
        "    x = x.view(-1, 28*28)\n",
        "    x = F.relu(self.fc1(x))\n",
        "    x = self.fc1_drop(x)\n",
        "    x = F.relu(self.fc2(x))\n",
        "    x = self.fc2_drop(x)\n",
        "    return F.log_softmax(self.fc3(x))"
      ],
      "execution_count": 0,
      "outputs": []
    },
    {
      "cell_type": "markdown",
      "metadata": {
        "id": "7kD6CaDfeenJ",
        "colab_type": "text"
      },
      "source": [
        "Neural networks can be constructed using the torch.nn package. An \"nn.Module\" contains layers, and a method forward(input) that returns the output. <br>\n",
        "Above, we created the structure of our network in the __init__**()** . <br>\n",
        "*   **\"nn.Linear(28*28, 50)\" :** It says there are 28*28 neurons in our input layer. 28*28 because our image is in 1,28,28. So we need to flatten it to pass it to the network. And 50 neurons in the first hidden layer. We have then assign this to a variable fc1.\n",
        "*   **\"nn.Dropout(0.2)\" :** Here we are adding dropout to our first layer. Which means that some of the neurons will randomly be switched off. And hence there weights will not be considered. Value 0.2 means 20% of the neurons will be stopped.\n",
        "*   **\"nn.Linear(50,50)\" :** Here we have 50 neurons in first hidden layer and 50 neurons in second hidden layer.\n",
        "*   **\"nn.Dropout(0.2)\" :** Again we have used Dropout 20%.\n",
        "*   **\"nn.Linear(50,10)\" :** Here 50 neuron of second hidden layer and 10 neurons in the output layer. We have put 10 neurons in the output layer because in out MNIST dataset we have numbers from 0 to 9. So we have 10 different classes.\n",
        "<br>\n",
        "\n",
        "In the **forward()** we have passed our image. As our image was 1,28,28 so we need to flatten it to pass it to the network through input layer. And we have applied ReLU activation function. In the output layer we have used softmax activation. Softmax will give us the probability score of all the 10 classes. The maximum probability value will be our prediction. Meaning: If we have give Digit 3 as our input then in the output layer we will have 10 probability values (because 10 classes 0 to 9), which will tell us what is the probability that our given input was 0, what is the probability that our given input was 1, what is the probability that our given input was 2 and so on. As our input was 3 so the probability for identifying it as 3 should be highest.\n",
        " \n",
        "\n",
        "\n",
        "\n",
        "\n"
      ]
    },
    {
      "cell_type": "code",
      "metadata": {
        "id": "9VGseWJdEInE",
        "colab_type": "code",
        "colab": {}
      },
      "source": [
        "model = Net()\n",
        "if cuda:\n",
        "  model.cuda()"
      ],
      "execution_count": 0,
      "outputs": []
    },
    {
      "cell_type": "code",
      "metadata": {
        "id": "4ecXKWQmEYAh",
        "colab_type": "code",
        "colab": {}
      },
      "source": [
        "optimizer = optim.SGD(model.parameters(), lr=0.01, momentum=0.5)"
      ],
      "execution_count": 0,
      "outputs": []
    },
    {
      "cell_type": "code",
      "metadata": {
        "id": "_qT9UaGGIvCR",
        "colab_type": "code",
        "outputId": "7241244f-9fb9-4b09-e98f-d0cf8e9e5e9f",
        "colab": {
          "base_uri": "https://localhost:8080/",
          "height": 34
        }
      },
      "source": [
        "for batch_idx, (data, target) in enumerate(train_loader):\n",
        "  print(len(data), len(target), len(train_loader), len(train_loader.dataset))\n",
        "  break\n"
      ],
      "execution_count": 0,
      "outputs": [
        {
          "output_type": "stream",
          "text": [
            "32 32 1875 60000\n"
          ],
          "name": "stdout"
        }
      ]
    },
    {
      "cell_type": "code",
      "metadata": {
        "id": "xxOf44qGJvwI",
        "colab_type": "code",
        "colab": {}
      },
      "source": [
        "def train(epoch, log_interval=100):\n",
        "  model.train()\n",
        "  for batch_idx, (data, target) in enumerate(train_loader):\n",
        "    if cuda:\n",
        "      data, target = data.cuda(), target.cuda()\n",
        "    data, target = Variable(data), Variable(target)\n",
        "    optimizer.zero_grad()\n",
        "    output = model(data)\n",
        "    loss = F.nll_loss(output, target)\n",
        "    loss.backward()\n",
        "    optimizer.step()\n",
        "    if batch_idx % log_interval == 0:\n",
        "      print('Train Epoch:{}, Train Loss: {:.6f}'.format(epoch, loss.data[0]))"
      ],
      "execution_count": 0,
      "outputs": []
    },
    {
      "cell_type": "code",
      "metadata": {
        "id": "skWo0wxav2Qk",
        "colab_type": "code",
        "colab": {}
      },
      "source": [
        "def test():\n",
        "  model.eval()\n",
        "  \n",
        "  test_loss, correct = 0, 0\n",
        "  loss_per_epoch = []\n",
        "  Accuracy_per_epoch = []\n",
        "  \n",
        "  for data, target in test_loader:\n",
        "    if cuda:\n",
        "      data, target = data.cuda(), target.cuda()\n",
        "    data, target = Variable(data), Variable(target)\n",
        "    output = model(data)\n",
        "    prediction = output.data.max(1)[1]\n",
        "    test_loss += F.nll_loss(output, target).data[0]\n",
        "    correct += prediction.eq(target.data).sum()\n",
        "  \n",
        "  Average_loss = test_loss/len(test_loader)\n",
        "  loss_per_epoch.append(Average_loss)\n",
        "  Accuracy = 100. * correct/len(test_loader.dataset)\n",
        "  Accuracy_per_epoch.append(Accuracy)\n",
        "  \n",
        "  print('Average Loss: {} , Accuracy: {} %:'.format(Average_loss, Accuracy))\n",
        "  return loss_per_epoch, Accuracy_per_epoch\n",
        "    "
      ],
      "execution_count": 0,
      "outputs": []
    },
    {
      "cell_type": "code",
      "metadata": {
        "id": "76A61IK6qVZI",
        "colab_type": "code",
        "outputId": "450e4a13-7c4a-4ac3-f1dd-202dd8ebb692",
        "colab": {
          "base_uri": "https://localhost:8080/",
          "height": 4317
        }
      },
      "source": [
        "epochs = 10\n",
        "lossv = []\n",
        "accv = []\n",
        "for epoch in range(1, epochs+1):\n",
        "  train(epoch)\n",
        "  l, a = test()\n",
        "  lossv.append(l)\n",
        "  accv.append(a)\n",
        "\n",
        "plt.figure(figsize=(8,5))\n",
        "plt.plot(np.arange(1,epochs+1), lossv)\n",
        "plt.title('test loss')\n",
        "\n",
        "plt.figure(figsize=(8,5))\n",
        "plt.plot(np.arange(1,epochs+1), accv)\n",
        "plt.title('test accuracy');\n",
        "print(accv)"
      ],
      "execution_count": 0,
      "outputs": [
        {
          "output_type": "stream",
          "text": [
            "/usr/local/lib/python3.6/dist-packages/ipykernel_launcher.py:16: UserWarning: Implicit dimension choice for log_softmax has been deprecated. Change the call to include dim=X as an argument.\n",
            "  app.launch_new_instance()\n",
            "/usr/local/lib/python3.6/dist-packages/ipykernel_launcher.py:13: UserWarning: invalid index of a 0-dim tensor. This will be an error in PyTorch 0.5. Use tensor.item() to convert a 0-dim tensor to a Python number\n",
            "  del sys.path[0]\n"
          ],
          "name": "stderr"
        },
        {
          "output_type": "stream",
          "text": [
            "Train Epoch:1, Train Loss: 2.289091\n",
            "Train Epoch:1, Train Loss: 1.398599\n",
            "Train Epoch:1, Train Loss: 1.536529\n",
            "Train Epoch:1, Train Loss: 0.770623\n",
            "Train Epoch:1, Train Loss: 1.031866\n",
            "Train Epoch:1, Train Loss: 0.490783\n",
            "Train Epoch:1, Train Loss: 0.576807\n",
            "Train Epoch:1, Train Loss: 0.370636\n",
            "Train Epoch:1, Train Loss: 0.393491\n",
            "Train Epoch:1, Train Loss: 0.260999\n",
            "Train Epoch:1, Train Loss: 0.355797\n",
            "Train Epoch:1, Train Loss: 0.238881\n",
            "Train Epoch:1, Train Loss: 0.530879\n",
            "Train Epoch:1, Train Loss: 0.618290\n",
            "Train Epoch:1, Train Loss: 0.262294\n",
            "Train Epoch:1, Train Loss: 0.193016\n",
            "Train Epoch:1, Train Loss: 0.557084\n",
            "Train Epoch:1, Train Loss: 0.306721\n",
            "Train Epoch:1, Train Loss: 0.585130\n"
          ],
          "name": "stdout"
        },
        {
          "output_type": "stream",
          "text": [
            "/usr/local/lib/python3.6/dist-packages/ipykernel_launcher.py:14: UserWarning: invalid index of a 0-dim tensor. This will be an error in PyTorch 0.5. Use tensor.item() to convert a 0-dim tensor to a Python number\n",
            "  \n"
          ],
          "name": "stderr"
        },
        {
          "output_type": "stream",
          "text": [
            "Average Loss: 0.23236709833145142 , Accuracy: 92 %:\n",
            "Train Epoch:2, Train Loss: 0.461794\n",
            "Train Epoch:2, Train Loss: 0.339427\n",
            "Train Epoch:2, Train Loss: 0.203655\n",
            "Train Epoch:2, Train Loss: 0.133553\n",
            "Train Epoch:2, Train Loss: 0.343912\n",
            "Train Epoch:2, Train Loss: 0.130772\n",
            "Train Epoch:2, Train Loss: 0.170786\n",
            "Train Epoch:2, Train Loss: 0.300489\n",
            "Train Epoch:2, Train Loss: 0.450378\n",
            "Train Epoch:2, Train Loss: 0.207460\n",
            "Train Epoch:2, Train Loss: 0.307542\n",
            "Train Epoch:2, Train Loss: 0.261979\n",
            "Train Epoch:2, Train Loss: 0.281482\n",
            "Train Epoch:2, Train Loss: 0.149687\n",
            "Train Epoch:2, Train Loss: 0.489418\n",
            "Train Epoch:2, Train Loss: 0.226092\n",
            "Train Epoch:2, Train Loss: 0.220009\n",
            "Train Epoch:2, Train Loss: 0.531375\n",
            "Train Epoch:2, Train Loss: 0.347990\n",
            "Average Loss: 0.1736813336610794 , Accuracy: 94 %:\n",
            "Train Epoch:3, Train Loss: 0.296341\n",
            "Train Epoch:3, Train Loss: 0.091281\n",
            "Train Epoch:3, Train Loss: 0.052759\n",
            "Train Epoch:3, Train Loss: 0.322950\n",
            "Train Epoch:3, Train Loss: 0.437668\n",
            "Train Epoch:3, Train Loss: 0.083055\n",
            "Train Epoch:3, Train Loss: 0.320837\n",
            "Train Epoch:3, Train Loss: 0.123661\n",
            "Train Epoch:3, Train Loss: 0.151272\n",
            "Train Epoch:3, Train Loss: 0.223781\n",
            "Train Epoch:3, Train Loss: 0.093647\n",
            "Train Epoch:3, Train Loss: 0.253194\n",
            "Train Epoch:3, Train Loss: 0.515519\n",
            "Train Epoch:3, Train Loss: 0.336748\n",
            "Train Epoch:3, Train Loss: 0.224565\n",
            "Train Epoch:3, Train Loss: 0.261560\n",
            "Train Epoch:3, Train Loss: 0.276082\n",
            "Train Epoch:3, Train Loss: 0.123879\n",
            "Train Epoch:3, Train Loss: 0.287825\n",
            "Average Loss: 0.14233934879302979 , Accuracy: 95 %:\n",
            "Train Epoch:4, Train Loss: 0.130538\n",
            "Train Epoch:4, Train Loss: 0.225770\n",
            "Train Epoch:4, Train Loss: 0.087875\n",
            "Train Epoch:4, Train Loss: 0.166655\n",
            "Train Epoch:4, Train Loss: 0.102202\n",
            "Train Epoch:4, Train Loss: 0.332732\n",
            "Train Epoch:4, Train Loss: 0.055465\n",
            "Train Epoch:4, Train Loss: 0.134439\n",
            "Train Epoch:4, Train Loss: 0.223816\n",
            "Train Epoch:4, Train Loss: 0.265911\n",
            "Train Epoch:4, Train Loss: 0.274746\n",
            "Train Epoch:4, Train Loss: 0.077610\n",
            "Train Epoch:4, Train Loss: 0.429647\n",
            "Train Epoch:4, Train Loss: 0.122507\n",
            "Train Epoch:4, Train Loss: 0.175349\n",
            "Train Epoch:4, Train Loss: 0.237962\n",
            "Train Epoch:4, Train Loss: 0.159669\n",
            "Train Epoch:4, Train Loss: 0.141743\n",
            "Train Epoch:4, Train Loss: 0.128211\n",
            "Average Loss: 0.1374012678861618 , Accuracy: 95 %:\n",
            "Train Epoch:5, Train Loss: 0.175310\n",
            "Train Epoch:5, Train Loss: 0.410081\n",
            "Train Epoch:5, Train Loss: 0.129301\n",
            "Train Epoch:5, Train Loss: 0.307950\n",
            "Train Epoch:5, Train Loss: 0.102336\n",
            "Train Epoch:5, Train Loss: 0.078909\n",
            "Train Epoch:5, Train Loss: 0.141648\n",
            "Train Epoch:5, Train Loss: 0.254942\n",
            "Train Epoch:5, Train Loss: 0.256021\n",
            "Train Epoch:5, Train Loss: 0.166923\n",
            "Train Epoch:5, Train Loss: 0.219739\n",
            "Train Epoch:5, Train Loss: 0.273314\n",
            "Train Epoch:5, Train Loss: 0.101249\n",
            "Train Epoch:5, Train Loss: 0.206401\n",
            "Train Epoch:5, Train Loss: 0.163146\n",
            "Train Epoch:5, Train Loss: 0.026947\n",
            "Train Epoch:5, Train Loss: 0.184785\n",
            "Train Epoch:5, Train Loss: 0.355747\n",
            "Train Epoch:5, Train Loss: 0.052300\n",
            "Average Loss: 0.12087380886077881 , Accuracy: 96 %:\n",
            "Train Epoch:6, Train Loss: 0.302814\n",
            "Train Epoch:6, Train Loss: 0.153089\n",
            "Train Epoch:6, Train Loss: 0.176857\n",
            "Train Epoch:6, Train Loss: 0.249561\n",
            "Train Epoch:6, Train Loss: 0.052128\n",
            "Train Epoch:6, Train Loss: 0.362665\n",
            "Train Epoch:6, Train Loss: 0.075968\n",
            "Train Epoch:6, Train Loss: 0.156749\n",
            "Train Epoch:6, Train Loss: 0.267225\n",
            "Train Epoch:6, Train Loss: 0.059687\n",
            "Train Epoch:6, Train Loss: 0.085668\n",
            "Train Epoch:6, Train Loss: 0.319822\n",
            "Train Epoch:6, Train Loss: 0.303946\n",
            "Train Epoch:6, Train Loss: 0.130902\n",
            "Train Epoch:6, Train Loss: 0.210398\n",
            "Train Epoch:6, Train Loss: 0.224522\n",
            "Train Epoch:6, Train Loss: 0.143199\n",
            "Train Epoch:6, Train Loss: 0.058310\n",
            "Train Epoch:6, Train Loss: 0.238147\n",
            "Average Loss: 0.11199034750461578 , Accuracy: 96 %:\n",
            "Train Epoch:7, Train Loss: 0.099150\n",
            "Train Epoch:7, Train Loss: 0.073725\n",
            "Train Epoch:7, Train Loss: 0.105808\n",
            "Train Epoch:7, Train Loss: 0.110217\n",
            "Train Epoch:7, Train Loss: 0.166083\n",
            "Train Epoch:7, Train Loss: 0.014962\n",
            "Train Epoch:7, Train Loss: 0.234863\n",
            "Train Epoch:7, Train Loss: 0.266618\n",
            "Train Epoch:7, Train Loss: 0.081673\n",
            "Train Epoch:7, Train Loss: 0.184180\n",
            "Train Epoch:7, Train Loss: 0.065627\n",
            "Train Epoch:7, Train Loss: 0.326877\n",
            "Train Epoch:7, Train Loss: 0.064530\n",
            "Train Epoch:7, Train Loss: 0.278767\n",
            "Train Epoch:7, Train Loss: 0.105407\n",
            "Train Epoch:7, Train Loss: 0.121129\n",
            "Train Epoch:7, Train Loss: 0.192384\n",
            "Train Epoch:7, Train Loss: 0.057950\n",
            "Train Epoch:7, Train Loss: 0.274861\n",
            "Average Loss: 0.10513216257095337 , Accuracy: 96 %:\n",
            "Train Epoch:8, Train Loss: 0.133956\n",
            "Train Epoch:8, Train Loss: 0.043974\n",
            "Train Epoch:8, Train Loss: 0.209815\n",
            "Train Epoch:8, Train Loss: 0.035298\n",
            "Train Epoch:8, Train Loss: 0.015581\n",
            "Train Epoch:8, Train Loss: 0.123828\n",
            "Train Epoch:8, Train Loss: 0.101784\n",
            "Train Epoch:8, Train Loss: 0.113473\n",
            "Train Epoch:8, Train Loss: 0.217905\n",
            "Train Epoch:8, Train Loss: 0.175939\n",
            "Train Epoch:8, Train Loss: 0.081689\n",
            "Train Epoch:8, Train Loss: 0.235790\n",
            "Train Epoch:8, Train Loss: 0.500189\n",
            "Train Epoch:8, Train Loss: 0.074291\n",
            "Train Epoch:8, Train Loss: 0.165421\n",
            "Train Epoch:8, Train Loss: 0.094259\n",
            "Train Epoch:8, Train Loss: 0.156087\n",
            "Train Epoch:8, Train Loss: 0.035741\n",
            "Train Epoch:8, Train Loss: 0.156294\n",
            "Average Loss: 0.10576967149972916 , Accuracy: 96 %:\n",
            "Train Epoch:9, Train Loss: 0.042022\n",
            "Train Epoch:9, Train Loss: 0.046144\n",
            "Train Epoch:9, Train Loss: 0.195319\n",
            "Train Epoch:9, Train Loss: 0.193804\n",
            "Train Epoch:9, Train Loss: 0.114915\n",
            "Train Epoch:9, Train Loss: 0.017578\n",
            "Train Epoch:9, Train Loss: 0.073018\n",
            "Train Epoch:9, Train Loss: 0.298782\n",
            "Train Epoch:9, Train Loss: 0.096811\n",
            "Train Epoch:9, Train Loss: 0.083329\n",
            "Train Epoch:9, Train Loss: 0.061437\n",
            "Train Epoch:9, Train Loss: 0.112006\n",
            "Train Epoch:9, Train Loss: 0.140302\n",
            "Train Epoch:9, Train Loss: 0.075949\n",
            "Train Epoch:9, Train Loss: 0.060209\n",
            "Train Epoch:9, Train Loss: 0.284627\n",
            "Train Epoch:9, Train Loss: 0.085003\n",
            "Train Epoch:9, Train Loss: 0.096315\n",
            "Train Epoch:9, Train Loss: 0.203922\n",
            "Average Loss: 0.100314199924469 , Accuracy: 96 %:\n",
            "Train Epoch:10, Train Loss: 0.169287\n",
            "Train Epoch:10, Train Loss: 0.149593\n",
            "Train Epoch:10, Train Loss: 0.190385\n",
            "Train Epoch:10, Train Loss: 0.051804\n",
            "Train Epoch:10, Train Loss: 0.074641\n",
            "Train Epoch:10, Train Loss: 0.282958\n",
            "Train Epoch:10, Train Loss: 0.064205\n",
            "Train Epoch:10, Train Loss: 0.104990\n",
            "Train Epoch:10, Train Loss: 0.169031\n",
            "Train Epoch:10, Train Loss: 0.286810\n",
            "Train Epoch:10, Train Loss: 0.068959\n",
            "Train Epoch:10, Train Loss: 0.077793\n",
            "Train Epoch:10, Train Loss: 0.175117\n",
            "Train Epoch:10, Train Loss: 0.124452\n",
            "Train Epoch:10, Train Loss: 0.187270\n",
            "Train Epoch:10, Train Loss: 0.049540\n",
            "Train Epoch:10, Train Loss: 0.016124\n",
            "Train Epoch:10, Train Loss: 0.065527\n",
            "Train Epoch:10, Train Loss: 0.226787\n",
            "Average Loss: 0.09739495813846588 , Accuracy: 97 %:\n",
            "[[tensor(92, device='cuda:0')], [tensor(94, device='cuda:0')], [tensor(95, device='cuda:0')], [tensor(95, device='cuda:0')], [tensor(96, device='cuda:0')], [tensor(96, device='cuda:0')], [tensor(96, device='cuda:0')], [tensor(96, device='cuda:0')], [tensor(96, device='cuda:0')], [tensor(97, device='cuda:0')]]\n"
          ],
          "name": "stdout"
        },
        {
          "output_type": "display_data",
          "data": {
            "image/png": "[encoded data removed]",
            "text/plain": [
              "<matplotlib.figure.Figure at 0x7fbd276f9eb8>"
            ]
          },
          "metadata": {
            "tags": []
          }
        },
        {
          "output_type": "display_data",
          "data": {
            "image/png": "[encoded data removed]",
            "text/plain": [
              "<matplotlib.figure.Figure at 0x7fbd262b4080>"
            ]
          },
          "metadata": {
            "tags": []
          }
        }
      ]
    },
    {
      "cell_type": "code",
      "metadata": {
        "id": "_u2Cii4Qqnma",
        "colab_type": "code",
        "colab": {}
      },
      "source": [
        ""
      ],
      "execution_count": 0,
      "outputs": []
    }
  ]
}